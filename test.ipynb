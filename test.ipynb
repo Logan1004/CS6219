{
 "cells": [
  {
   "cell_type": "code",
   "execution_count": 1,
   "id": "ec1151ee-3795-4e81-b891-131a8a42264d",
   "metadata": {},
   "outputs": [],
   "source": [
    "import os\n",
    "import shutil\n",
    "import itertools\n",
    "import time\n",
    "import csv\n",
    "import numpy as np\n",
    "meta = dict()\n",
    "meta['primer size'] = 13\n",
    "process_num = 8\n",
    "docu = 'Test'"
   ]
  },
  {
   "cell_type": "code",
   "execution_count": 2,
   "id": "ae37fb1c-46d5-48a0-a294-02e37164a001",
   "metadata": {},
   "outputs": [],
   "source": [
    "file_path = os.path.join(docu, 'output.txt')\n",
    "output_path = os.path.join(docu, 'EncodedStrands.txt')\n",
    "output_lines = []\n",
    "with open(file_path, 'r') as f:\n",
    "    lines = f.readlines()\n",
    "    for line in lines:\n",
    "        tmp_line = line.strip().split('_')[0]\n",
    "        output_lines.append([tmp_line])\n",
    "with open(output_path, 'w') as f:\n",
    "    csvwriter = csv.writer(f)\n",
    "    csvwriter.writerows(output_lines)"
   ]
  },
  {
   "cell_type": "code",
   "execution_count": null,
   "id": "3d08353f-7362-4e42-95f4-17f0bc22a620",
   "metadata": {},
   "outputs": [],
   "source": []
  }
 ],
 "metadata": {
  "kernelspec": {
   "display_name": "Python 3 (ipykernel)",
   "language": "python",
   "name": "python3"
  },
  "language_info": {
   "codemirror_mode": {
    "name": "ipython",
    "version": 3
   },
   "file_extension": ".py",
   "mimetype": "text/x-python",
   "name": "python",
   "nbconvert_exporter": "python",
   "pygments_lexer": "ipython3",
   "version": "3.7.11"
  }
 },
 "nbformat": 4,
 "nbformat_minor": 5
}
