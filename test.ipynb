{
 "cells": [
  {
   "cell_type": "code",
   "execution_count": 8,
   "id": "ec1151ee-3795-4e81-b891-131a8a42264d",
   "metadata": {},
   "outputs": [],
   "source": [
    "import os\n",
    "import shutil\n",
    "import itertools\n",
    "import time\n",
    "import numpy as np\n",
    "meta = dict()\n",
    "meta['primer size'] = 13\n",
    "process_num = 8"
   ]
  },
  {
   "cell_type": "code",
   "execution_count": 9,
   "id": "ae37fb1c-46d5-48a0-a294-02e37164a001",
   "metadata": {},
   "outputs": [
    {
     "data": {
      "text/plain": [
       "numpy.int64"
      ]
     },
     "execution_count": 9,
     "metadata": {},
     "output_type": "execute_result"
    }
   ],
   "source": [
    "index = np.array([1, 4, 0, 2, 2])\n",
    "position = np.where(index == 2)\n",
    "start = int(np.amin(position))\n",
    "end = np.amax(position) + 1\n",
    "type(start)"
   ]
  },
  {
   "cell_type": "code",
   "execution_count": null,
   "id": "b319139e-f5fe-4904-810c-08a9d85799bc",
   "metadata": {},
   "outputs": [],
   "source": [
    "# def extract_func(docu, primer_id, process_id):\n",
    "#     start_time = time.time()\n",
    "#     input_docu = os.path.join(docu, 'Output')\n",
    "#     output_docu = os.path.join(docu, 'Output_files', str(primer_id))\n",
    "#     os.makedirs(output_docu, exist_ok=True)\n",
    "    \n",
    "#     intput_id = os.path.join(input_docu, 'output-' + str(process_id) + '-id.csv')\n",
    "#     index = np.genfromtxt(intput_id, delimiter=',', dtype=np.int32)[:, 0]\n",
    "#     position = np.where(index == primer_id)\n",
    "#     start = np.amin(position)\n",
    "#     end = np.amax(position) + 1\n",
    "    \n",
    "#     input_payload = os.path.join(input_docu, 'output-' + str(process_id) + '-payload.txt')\n",
    "#     output_payload = os.path.join(output_docu, 'o-' + str(process_id) + '.txt')\n",
    "#     with open(input_payload, \"r\") as input_file:\n",
    "#         with open(output_payload, 'w') as output_file:\n",
    "#             output_file.writelines(list(itertools.islice(input_file, start, end)))\n",
    "    \n",
    "#     return time.time() - start_time\n",
    "    \n",
    "# extract_func('real_data_6219', 0, 0)"
   ]
  },
  {
   "cell_type": "code",
   "execution_count": null,
   "id": "6163e51e-b506-43f2-ad7e-2571cf239e4e",
   "metadata": {},
   "outputs": [],
   "source": [
    "# def concatenate_files(input_files, output_file):\n",
    "#     with open(output_file, 'wb') as wfd:\n",
    "#         for tmp_path in input_files:\n",
    "#             with open(tmp_path, 'rb') as fd:\n",
    "#                 shutil.copyfileobj(fd, wfd)"
   ]
  },
  {
   "cell_type": "code",
   "execution_count": null,
   "id": "068e7db4-aa8f-42a1-b210-ba710e3aa57a",
   "metadata": {},
   "outputs": [],
   "source": [
    "# def reduce_func(docu, primer_id, remove_dir = False):\n",
    "#     input_docu = os.path.join(docu, 'Output_files', str(primer_id))\n",
    "#     output_file = os.path.join(docu, 'Output_files', 'result-' + str(primer_id) + '.txt')\n",
    "    \n",
    "#     f_list = []\n",
    "#     size = 0\n",
    "#     for f in os.listdir(input_docu):\n",
    "#         file_path = os.path.join(input_docu, f)\n",
    "#         if os.path.isfile(file_path):\n",
    "#             with open(file_path, 'r') as f:\n",
    "#                 tmp_s = len(list(f.readlines()))\n",
    "#                 size += tmp_s\n",
    "#     return size\n",
    "    \n",
    "# #     concatenate_files(f_list, output_file)\n",
    "# #     if remove_dir:\n",
    "# #         shutil.rmtree(input_docu)\n",
    "# for primer_id in range(13):\n",
    "#     output_file = os.path.join('real_data_6219', 'Output_files', 'result-' + str(primer_id) + '.txt')\n",
    "#     a = reduce_func('real_data_6219', primer_id)\n",
    "#     with open(output_file, 'r') as f:\n",
    "#         b = len(list(f.readlines()))\n",
    "#     print(a, ' vs ', b)\n",
    "#     assert a == b"
   ]
  },
  {
   "cell_type": "code",
   "execution_count": null,
   "id": "5aa723d3-d9fd-44b9-8a9b-5f2847af5bb2",
   "metadata": {},
   "outputs": [],
   "source": [
    "24 + 19 + 31 + 31"
   ]
  },
  {
   "cell_type": "code",
   "execution_count": 3,
   "id": "0e64d29c-3386-4923-80d1-2bf9a5aeca17",
   "metadata": {},
   "outputs": [],
   "source": [
    "a = np.array([23.806116819381714, 22.854225158691406, 26.201544046401978, 26.673598051071167, 26.26694130897522, 26.52297329902649, 27.643718242645264, 27.658408403396606, 27.44289207458496, 27.959123373031616, 27.853914737701416, 28.946693181991577, 30.14569902420044, 29.424499034881592, 33.01594090461731, 31.847980976104736, 32.390812158584595, 34.64799189567566, 32.941344022750854, 36.26587414741516, 39.61016917228699, 35.57038068771362, 39.61680197715759, 38.62519192695618, 40.32143807411194, 42.01251792907715, 41.33193492889404, 44.253093004226685, 45.99813485145569, 46.35671305656433, 48.90792393684387, 51.06933307647705, 52.07903003692627, 54.60780191421509, 55.16068363189697, 24.23620295524597, 24.065289974212646, 24.15879511833191, 25.532058000564575, 24.23253297805786, 24.276084899902344, 25.69753074645996, 24.98775601387024, 27.04788613319397, 26.772836923599243, 26.355206966400146, 27.259684801101685, 31.184639930725098, 29.136892318725586, 31.107972860336304, 31.314483880996704, 32.340784788131714, 32.35963678359985, 32.6920440196991, 33.9364857673645, 34.21048307418823, 34.64464092254639, 35.95563220977783, 38.45143508911133, 42.17373991012573, 29.739754915237427, 32.072871923446655, 32.878679037094116, 33.511313915252686, 33.70612907409668, 35.750298261642456, 35.919708013534546, 37.04568099975586, 37.97182011604309, 37.37094497680664, 12.554296970367432, 14.32241678237915, 16.46856999397278, 18.23405170440674, 17.746093034744263, 21.066830158233643, 21.025882720947266, 21.494477033615112, 23.62417697906494, 24.728890657424927, 24.61862587928772, 25.724081993103027, 26.52803111076355, 26.66184711456299, 27.57019591331482, 28.385453939437866, 30.10957622528076, 28.227393865585327, 28.93308711051941, 29.558506965637207, 29.985924005508423, 28.887584924697876, 28.823983192443848, 28.459541082382202, 27.823344230651855, 27.589287042617798, 26.732327222824097, 25.691065073013306, 25.436776876449585, 25.346074104309082, 24.995888710021973, 24.775863885879517, 24.617398977279663, 24.544780731201172, 23.758805990219116, 15.873044967651367, 14.538117170333862, 15.63709306716919, 16.041423082351685, 16.900773763656616, 18.208686113357544, 18.329347848892212, 18.27760410308838, 18.47793483734131, 18.9150550365448, 16.36697292327881, 17.359527111053467, 16.973390817642212, 16.95921277999878, 15.692907810211182, 15.31765103340149, 14.368054151535034, 14.356384992599487, 13.18821382522583, 12.248903036117554, 12.247711896896362, 12.198850154876709, 11.158735036849976, 10.800063371658325, 10.725945949554443, 9.002764701843262, 9.002492904663086, 8.600762844085693, 8.525571823120117, 7.877739191055298, 7.777217149734497, 7.6157166957855225, 7.3041956424713135, 7.2487359046936035, 6.54353404045105])"
   ]
  },
  {
   "cell_type": "code",
   "execution_count": 4,
   "id": "cda7cb43-e298-4b00-98d8-8963060002ca",
   "metadata": {},
   "outputs": [
    {
     "data": {
      "text/plain": [
       "55.16068363189697"
      ]
     },
     "execution_count": 4,
     "metadata": {},
     "output_type": "execute_result"
    }
   ],
   "source": [
    "np.amax(a)"
   ]
  },
  {
   "cell_type": "code",
   "execution_count": null,
   "id": "f6ce6fb5-39a1-4b52-b7ab-8b1d091c68cf",
   "metadata": {},
   "outputs": [],
   "source": []
  }
 ],
 "metadata": {
  "kernelspec": {
   "display_name": "Python 3 (ipykernel)",
   "language": "python",
   "name": "python3"
  },
  "language_info": {
   "codemirror_mode": {
    "name": "ipython",
    "version": 3
   },
   "file_extension": ".py",
   "mimetype": "text/x-python",
   "name": "python",
   "nbconvert_exporter": "python",
   "pygments_lexer": "ipython3",
   "version": "3.7.11"
  }
 },
 "nbformat": 4,
 "nbformat_minor": 5
}
