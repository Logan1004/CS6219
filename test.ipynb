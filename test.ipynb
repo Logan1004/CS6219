{
 "cells": [
  {
   "cell_type": "code",
   "execution_count": 1,
   "id": "ec1151ee-3795-4e81-b891-131a8a42264d",
   "metadata": {},
   "outputs": [],
   "source": [
    "import os\n",
    "import shutil\n",
    "import itertools\n",
    "import time\n",
    "import csv\n",
    "import numpy as np\n",
    "meta = dict()\n",
    "process_num = 8\n",
    "docu = 'real_data_6219'"
   ]
  },
  {
   "cell_type": "code",
   "execution_count": 2,
   "id": "c648de48-de04-4a4a-96dd-4a0b16f962d4",
   "metadata": {},
   "outputs": [],
   "source": [
    "from Parallel import *"
   ]
  },
  {
   "cell_type": "code",
   "execution_count": 3,
   "id": "fad40552-fbc7-489f-9441-10b85e46f25c",
   "metadata": {},
   "outputs": [],
   "source": [
    "docu1 = os.path.join('Test', 'Output_files')\n",
    "docu2 = os.path.join('Test', 'Output_files_1')\n",
    "for i in range(8):\n",
    "    file = 'result-' + str(i) + '.txt'\n",
    "    print(file)\n",
    "    path_1 = os.path.join(docu1, file)\n",
    "    path_2 = os.path.join(docu2, file)\n",
    "    with open(path_1, 'r') as f: lines_1 = f.readlines()\n",
    "    with open(path_2, 'r') as f: lines_2 = f.readlines()\n",
    "    assert lines_1 == lines_2"
   ]
  },
  {
   "cell_type": "code",
   "execution_count": 4,
   "id": "05253ca7-1d03-4497-9bad-0665701d7869",
   "metadata": {},
   "outputs": [],
   "source": [
    "a1 = 0.3131868839263916\n",
    "a2 = 0.6654388904571533"
   ]
  },
  {
   "cell_type": "code",
   "execution_count": 5,
   "id": "8ac32fff-79da-4977-ae3c-a26f8976192b",
   "metadata": {},
   "outputs": [
    {
     "ename": "NameError",
     "evalue": "name 'input_strands' is not defined",
     "output_type": "error",
     "traceback": [
      "\u001b[0;31m---------------------------------------------------------------------------\u001b[0m",
      "\u001b[0;31mNameError\u001b[0m                                 Traceback (most recent call last)",
      "\u001b[0;32m/var/folders/sl/vm_zs2jd32qdl5g6n9rdrtr00000gn/T/ipykernel_36105/2957370019.py\u001b[0m in \u001b[0;36m<module>\u001b[0;34m\u001b[0m\n\u001b[0;32m----> 1\u001b[0;31m \u001b[0minput_strands\u001b[0m\u001b[0;34m\u001b[0m\u001b[0;34m\u001b[0m\u001b[0m\n\u001b[0m",
      "\u001b[0;31mNameError\u001b[0m: name 'input_strands' is not defined"
     ]
    }
   ],
   "source": [
    "input_strands"
   ]
  },
  {
   "cell_type": "code",
   "execution_count": null,
   "id": "308ac66d-881e-4061-ae9a-9925fda17549",
   "metadata": {},
   "outputs": [],
   "source": [
    "python3 Utils.py  '0.14-var/Primer_30/primer.txt' '0.14-var/Primer_30/primer_gram'"
   ]
  }
 ],
 "metadata": {
  "kernelspec": {
   "display_name": "Python 3 (ipykernel)",
   "language": "python",
   "name": "python3"
  },
  "language_info": {
   "codemirror_mode": {
    "name": "ipython",
    "version": 3
   },
   "file_extension": ".py",
   "mimetype": "text/x-python",
   "name": "python",
   "nbconvert_exporter": "python",
   "pygments_lexer": "ipython3",
   "version": "3.7.11"
  }
 },
 "nbformat": 4,
 "nbformat_minor": 5
}
