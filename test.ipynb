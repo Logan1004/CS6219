{
 "cells": [
  {
   "cell_type": "code",
   "execution_count": 1,
   "id": "ec1151ee-3795-4e81-b891-131a8a42264d",
   "metadata": {},
   "outputs": [],
   "source": [
    "import numpy as np\n",
    "ret_arr = np.array([[4, 2], [5, 4], [2, 6], [10, 21], [4,0]])\n",
    "payloads = np.array(['asdsd', 'bwww', 'coo', 'ezz'])\n",
    "index = np.argsort(ret_arr[:,0], axis=0)"
   ]
  },
  {
   "cell_type": "code",
   "execution_count": 2,
   "id": "b319139e-f5fe-4904-810c-08a9d85799bc",
   "metadata": {},
   "outputs": [],
   "source": [
    "ret_arr = ret_arr[index]"
   ]
  },
  {
   "cell_type": "code",
   "execution_count": 3,
   "id": "a35cab0c-266d-4586-9f0c-1fe8acbc788c",
   "metadata": {},
   "outputs": [],
   "source": [
    "np.savetxt(\"test.csv\", ret_arr, delimiter=\",\", fmt='%d')\n",
    "#np.savetxt(\"test.csv\", payloads, delimiter=\",\", fmt='%s')"
   ]
  },
  {
   "cell_type": "code",
   "execution_count": 4,
   "id": "d1d34a62-827c-4e97-acc4-48befe294314",
   "metadata": {},
   "outputs": [
    {
     "data": {
      "text/plain": [
       "array([ 2,  4,  4,  5, 10])"
      ]
     },
     "execution_count": 4,
     "metadata": {},
     "output_type": "execute_result"
    }
   ],
   "source": [
    "ret_arr[:,0]"
   ]
  },
  {
   "cell_type": "code",
   "execution_count": 5,
   "id": "bc8ca471-10c7-40c2-b399-83af8df712ac",
   "metadata": {},
   "outputs": [
    {
     "data": {
      "text/plain": [
       "array([2, 0, 4, 1, 3])"
      ]
     },
     "execution_count": 5,
     "metadata": {},
     "output_type": "execute_result"
    }
   ],
   "source": [
    "index"
   ]
  },
  {
   "cell_type": "code",
   "execution_count": 6,
   "id": "8a9c2932-8da9-46a8-9921-400950a5d1a6",
   "metadata": {},
   "outputs": [
    {
     "data": {
      "text/plain": [
       "array([[ 2,  6],\n",
       "       [ 4,  2],\n",
       "       [ 4,  0],\n",
       "       [ 5,  4],\n",
       "       [10, 21]])"
      ]
     },
     "execution_count": 6,
     "metadata": {},
     "output_type": "execute_result"
    }
   ],
   "source": [
    "ret_arr"
   ]
  },
  {
   "cell_type": "code",
   "execution_count": null,
   "id": "84827d4f-21f2-4264-a5f7-3a71e585520d",
   "metadata": {},
   "outputs": [],
   "source": []
  }
 ],
 "metadata": {
  "kernelspec": {
   "display_name": "Python 3 (ipykernel)",
   "language": "python",
   "name": "python3"
  },
  "language_info": {
   "codemirror_mode": {
    "name": "ipython",
    "version": 3
   },
   "file_extension": ".py",
   "mimetype": "text/x-python",
   "name": "python",
   "nbconvert_exporter": "python",
   "pygments_lexer": "ipython3",
   "version": "3.7.11"
  }
 },
 "nbformat": 4,
 "nbformat_minor": 5
}
