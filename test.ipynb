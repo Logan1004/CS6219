{
 "cells": [
  {
   "cell_type": "code",
   "execution_count": 1,
   "id": "ec1151ee-3795-4e81-b891-131a8a42264d",
   "metadata": {},
   "outputs": [],
   "source": [
    "import os\n",
    "import shutil\n",
    "import itertools\n",
    "import time\n",
    "import csv\n",
    "import numpy as np\n",
    "meta = dict()\n",
    "meta['primer size'] = 13\n",
    "process_num = 8\n",
    "docu = 'minilab_data_6219'"
   ]
  },
  {
   "cell_type": "code",
   "execution_count": 2,
   "id": "3d08353f-7362-4e42-95f4-17f0bc22a620",
   "metadata": {},
   "outputs": [],
   "source": [
    "# a_path = os.path.join(docu, 'UnderlyingClusters_my.txt')\n",
    "# alines = None\n",
    "# b_path = os.path.join(docu, 'UnderlyingClusters.txt')\n",
    "# blines = None\n",
    "# with open(a_path, 'r') as af: alines = af.readlines()\n",
    "# with open(b_path, 'r') as bf: blines = bf.readlines()\n",
    "# assert len(alines) == len(blines)\n",
    "# for i in range(len(alines)):\n",
    "#     assert alines[i] == blines[i]"
   ]
  },
  {
   "cell_type": "code",
   "execution_count": 3,
   "id": "5869a17d-f360-415c-8dfa-dcb1d8a10d01",
   "metadata": {},
   "outputs": [],
   "source": [
    "# l = [112, 114, 112, 113, 115]\n",
    "# mu = np.round(np.mean(l), 3) \n",
    "# sig = np.round(np.std(l), 3)\n",
    "# print(mu, ' , ', sig)"
   ]
  },
  {
   "cell_type": "code",
   "execution_count": 4,
   "id": "4fcf161f-df59-4ab8-b45d-0b6f3cab5c66",
   "metadata": {},
   "outputs": [
    {
     "name": "stdout",
     "output_type": "stream",
     "text": [
      "0.21390700340270996\n",
      "vs\n",
      "1.789639949798584\n"
     ]
    }
   ],
   "source": [
    "intput_id = os.path.join('0.03-100', 'Output', 'output-' + str(1) + '-id.csv')\n",
    "\n",
    "start_time = time.time()\n",
    "index_1 = np.genfromtxt(intput_id, delimiter=',', dtype=np.int32)[:]\n",
    "end_time = time.time() - start_time\n",
    "\n",
    "start_time = time.time()\n",
    "with open(intput_id) as f:\n",
    "    lines = f.readlines()\n",
    "    index = [int(line) for line in lines]\n",
    "index = np.array(index, dtype=np.int32)\n",
    "#a = np.copy(index)\n",
    "print(time.time() - start_time)\n",
    "print('vs')\n",
    "print(end_time)"
   ]
  },
  {
   "cell_type": "code",
   "execution_count": 5,
   "id": "f29c8dcd-5565-41b8-ba4f-32860c67d706",
   "metadata": {},
   "outputs": [
    {
     "data": {
      "text/plain": [
       "False"
      ]
     },
     "execution_count": 5,
     "metadata": {},
     "output_type": "execute_result"
    }
   ],
   "source": [
    "np.any(index != index_1)"
   ]
  }
 ],
 "metadata": {
  "kernelspec": {
   "display_name": "Python 3 (ipykernel)",
   "language": "python",
   "name": "python3"
  },
  "language_info": {
   "codemirror_mode": {
    "name": "ipython",
    "version": 3
   },
   "file_extension": ".py",
   "mimetype": "text/x-python",
   "name": "python",
   "nbconvert_exporter": "python",
   "pygments_lexer": "ipython3",
   "version": "3.7.11"
  }
 },
 "nbformat": 4,
 "nbformat_minor": 5
}
