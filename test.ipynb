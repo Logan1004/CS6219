{
 "cells": [
  {
   "cell_type": "code",
   "execution_count": 1,
   "id": "ec1151ee-3795-4e81-b891-131a8a42264d",
   "metadata": {},
   "outputs": [],
   "source": [
    "import os\n",
    "import shutil\n",
    "import itertools\n",
    "import time\n",
    "import csv\n",
    "import numpy as np\n",
    "meta = dict()\n",
    "process_num = 8\n",
    "docu = 'real_data_6219'"
   ]
  },
  {
   "cell_type": "code",
   "execution_count": 2,
   "id": "c648de48-de04-4a4a-96dd-4a0b16f962d4",
   "metadata": {},
   "outputs": [],
   "source": [
    "from Parallel import *"
   ]
  },
  {
   "cell_type": "code",
   "execution_count": 3,
   "id": "fad40552-fbc7-489f-9441-10b85e46f25c",
   "metadata": {},
   "outputs": [],
   "source": [
    "# start_time = time.time()\n",
    "# b = process_func_fast(docu, 1912112 ,2012112, 3, 20, 9999, 9999, 0, 0, -1)\n",
    "# time.time() - start_time\n",
    "# b"
   ]
  },
  {
   "cell_type": "code",
   "execution_count": 5,
   "id": "05253ca7-1d03-4497-9bad-0665701d7869",
   "metadata": {},
   "outputs": [],
   "source": [
    "a1 = 0.3131868839263916\n",
    "a2 = 0.6654388904571533"
   ]
  },
  {
   "cell_type": "code",
   "execution_count": 8,
   "id": "8ac32fff-79da-4977-ae3c-a26f8976192b",
   "metadata": {},
   "outputs": [
    {
     "data": {
      "text/plain": [
       "['Python is a great language2']"
      ]
     },
     "execution_count": 8,
     "metadata": {},
     "output_type": "execute_result"
    }
   ],
   "source": [
    "input_strands"
   ]
  },
  {
   "cell_type": "code",
   "execution_count": null,
   "id": "308ac66d-881e-4061-ae9a-9925fda17549",
   "metadata": {},
   "outputs": [],
   "source": []
  }
 ],
 "metadata": {
  "kernelspec": {
   "display_name": "Python 3 (ipykernel)",
   "language": "python",
   "name": "python3"
  },
  "language_info": {
   "codemirror_mode": {
    "name": "ipython",
    "version": 3
   },
   "file_extension": ".py",
   "mimetype": "text/x-python",
   "name": "python",
   "nbconvert_exporter": "python",
   "pygments_lexer": "ipython3",
   "version": "3.7.11"
  }
 },
 "nbformat": 4,
 "nbformat_minor": 5
}
