{
 "cells": [
  {
   "cell_type": "code",
   "execution_count": 1,
   "id": "ec1151ee-3795-4e81-b891-131a8a42264d",
   "metadata": {},
   "outputs": [],
   "source": [
    "import os\n",
    "import shutil\n",
    "import itertools\n",
    "import time\n",
    "import csv\n",
    "import numpy as np\n",
    "meta = dict()\n",
    "meta['primer size'] = 13\n",
    "process_num = 8\n",
    "docu = 'minilab_data_6219'"
   ]
  },
  {
   "cell_type": "code",
   "execution_count": 2,
   "id": "3d08353f-7362-4e42-95f4-17f0bc22a620",
   "metadata": {},
   "outputs": [],
   "source": [
    "a_path = os.path.join(docu, 'UnderlyingClusters_my.txt')\n",
    "alines = None\n",
    "b_path = os.path.join(docu, 'UnderlyingClusters.txt')\n",
    "blines = None\n",
    "with open(a_path, 'r') as af: alines = af.readlines()\n",
    "with open(b_path, 'r') as bf: blines = bf.readlines()\n",
    "assert len(alines) == len(blines)\n",
    "for i in range(len(alines)):\n",
    "    assert alines[i] == blines[i]"
   ]
  }
 ],
 "metadata": {
  "kernelspec": {
   "display_name": "Python 3 (ipykernel)",
   "language": "python",
   "name": "python3"
  },
  "language_info": {
   "codemirror_mode": {
    "name": "ipython",
    "version": 3
   },
   "file_extension": ".py",
   "mimetype": "text/x-python",
   "name": "python",
   "nbconvert_exporter": "python",
   "pygments_lexer": "ipython3",
   "version": "3.7.11"
  }
 },
 "nbformat": 4,
 "nbformat_minor": 5
}
