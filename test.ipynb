{
 "cells": [
  {
   "cell_type": "code",
   "execution_count": 1,
   "id": "ec1151ee-3795-4e81-b891-131a8a42264d",
   "metadata": {},
   "outputs": [],
   "source": [
    "import os\n",
    "import shutil\n",
    "import itertools\n",
    "import time\n",
    "import numpy as np\n",
    "meta = dict()\n",
    "meta['primer size'] = 13\n",
    "process_num = 8"
   ]
  },
  {
   "cell_type": "code",
   "execution_count": 2,
   "id": "b319139e-f5fe-4904-810c-08a9d85799bc",
   "metadata": {},
   "outputs": [],
   "source": [
    "# def extract_func(docu, primer_id, process_id):\n",
    "#     start_time = time.time()\n",
    "#     input_docu = os.path.join(docu, 'Output')\n",
    "#     output_docu = os.path.join(docu, 'Output_files', str(primer_id))\n",
    "#     os.makedirs(output_docu, exist_ok=True)\n",
    "    \n",
    "#     intput_id = os.path.join(input_docu, 'output-' + str(process_id) + '-id.csv')\n",
    "#     index = np.genfromtxt(intput_id, delimiter=',', dtype=np.int32)[:, 0]\n",
    "#     position = np.where(index == primer_id)\n",
    "#     start = np.amin(position)\n",
    "#     end = np.amax(position) + 1\n",
    "    \n",
    "#     input_payload = os.path.join(input_docu, 'output-' + str(process_id) + '-payload.txt')\n",
    "#     output_payload = os.path.join(output_docu, 'o-' + str(process_id) + '.txt')\n",
    "#     with open(input_payload, \"r\") as input_file:\n",
    "#         with open(output_payload, 'w') as output_file:\n",
    "#             output_file.writelines(list(itertools.islice(input_file, start, end)))\n",
    "    \n",
    "#     return time.time() - start_time\n",
    "    \n",
    "# extract_func('real_data_6219', 0, 0)"
   ]
  },
  {
   "cell_type": "code",
   "execution_count": 3,
   "id": "6163e51e-b506-43f2-ad7e-2571cf239e4e",
   "metadata": {},
   "outputs": [],
   "source": [
    "# def concatenate_files(input_files, output_file):\n",
    "#     with open(output_file, 'wb') as wfd:\n",
    "#         for tmp_path in input_files:\n",
    "#             with open(tmp_path, 'rb') as fd:\n",
    "#                 shutil.copyfileobj(fd, wfd)"
   ]
  },
  {
   "cell_type": "code",
   "execution_count": 4,
   "id": "068e7db4-aa8f-42a1-b210-ba710e3aa57a",
   "metadata": {},
   "outputs": [
    {
     "name": "stdout",
     "output_type": "stream",
     "text": [
      "105  vs  105\n",
      "38  vs  38\n",
      "66  vs  66\n",
      "37  vs  37\n",
      "65  vs  65\n",
      "82  vs  82\n",
      "149  vs  149\n",
      "40  vs  40\n",
      "34  vs  34\n",
      "41  vs  41\n",
      "58  vs  58\n",
      "45  vs  45\n",
      "40  vs  40\n"
     ]
    }
   ],
   "source": [
    "def reduce_func(docu, primer_id, remove_dir = False):\n",
    "    input_docu = os.path.join(docu, 'Output_files', str(primer_id))\n",
    "    output_file = os.path.join(docu, 'Output_files', 'result-' + str(primer_id) + '.txt')\n",
    "    \n",
    "    f_list = []\n",
    "    size = 0\n",
    "    for f in os.listdir(input_docu):\n",
    "        file_path = os.path.join(input_docu, f)\n",
    "        if os.path.isfile(file_path):\n",
    "            with open(file_path, 'r') as f:\n",
    "                tmp_s = len(list(f.readlines()))\n",
    "                size += tmp_s\n",
    "    return size\n",
    "    \n",
    "#     concatenate_files(f_list, output_file)\n",
    "#     if remove_dir:\n",
    "#         shutil.rmtree(input_docu)\n",
    "for primer_id in range(13):\n",
    "    output_file = os.path.join('real_data_6219', 'Output_files', 'result-' + str(primer_id) + '.txt')\n",
    "    a = reduce_func('real_data_6219', primer_id)\n",
    "    with open(output_file, 'r') as f:\n",
    "        b = len(list(f.readlines()))\n",
    "    print(a, ' vs ', b)\n",
    "    assert a == b"
   ]
  },
  {
   "cell_type": "code",
   "execution_count": 5,
   "id": "5aa723d3-d9fd-44b9-8a9b-5f2847af5bb2",
   "metadata": {},
   "outputs": [
    {
     "data": {
      "text/plain": [
       "105"
      ]
     },
     "execution_count": 5,
     "metadata": {},
     "output_type": "execute_result"
    }
   ],
   "source": [
    "24 + 19 + 31 + 31"
   ]
  },
  {
   "cell_type": "code",
   "execution_count": null,
   "id": "0e64d29c-3386-4923-80d1-2bf9a5aeca17",
   "metadata": {},
   "outputs": [],
   "source": []
  }
 ],
 "metadata": {
  "kernelspec": {
   "display_name": "Python 3 (ipykernel)",
   "language": "python",
   "name": "python3"
  },
  "language_info": {
   "codemirror_mode": {
    "name": "ipython",
    "version": 3
   },
   "file_extension": ".py",
   "mimetype": "text/x-python",
   "name": "python",
   "nbconvert_exporter": "python",
   "pygments_lexer": "ipython3",
   "version": "3.7.11"
  }
 },
 "nbformat": 4,
 "nbformat_minor": 5
}
