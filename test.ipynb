{
 "cells": [
  {
   "cell_type": "code",
   "execution_count": 1,
   "id": "ec1151ee-3795-4e81-b891-131a8a42264d",
   "metadata": {},
   "outputs": [],
   "source": [
    "import os\n",
    "import shutil\n",
    "import itertools\n",
    "import time\n",
    "import csv\n",
    "import numpy as np\n",
    "meta = dict()\n",
    "meta['primer size'] = 13\n",
    "process_num = 8\n",
    "docu = 'minilab_data_6219'"
   ]
  },
  {
   "cell_type": "code",
   "execution_count": 2,
   "id": "3d08353f-7362-4e42-95f4-17f0bc22a620",
   "metadata": {},
   "outputs": [],
   "source": [
    "a_path = os.path.join(docu, 'UnderlyingClusters_my.txt')\n",
    "alines = None\n",
    "b_path = os.path.join(docu, 'UnderlyingClusters.txt')\n",
    "blines = None\n",
    "with open(a_path, 'r') as af: alines = af.readlines()\n",
    "with open(b_path, 'r') as bf: blines = bf.readlines()\n",
    "assert len(alines) == len(blines)\n",
    "for i in range(len(alines)):\n",
    "    assert alines[i] == blines[i]"
   ]
  },
  {
   "cell_type": "code",
   "execution_count": 3,
   "id": "5869a17d-f360-415c-8dfa-dcb1d8a10d01",
   "metadata": {},
   "outputs": [
    {
     "name": "stdout",
     "output_type": "stream",
     "text": [
      "113.2  ,  1.166\n"
     ]
    }
   ],
   "source": [
    "l = [112, 114, 112, 113, 115]\n",
    "mu = np.round(np.mean(l), 3) \n",
    "sig = np.round(np.std(l), 3)\n",
    "print(mu, ' , ', sig)"
   ]
  },
  {
   "cell_type": "code",
   "execution_count": 19,
   "id": "06351612-36c1-4194-b069-95b311b0da96",
   "metadata": {},
   "outputs": [
    {
     "data": {
      "text/plain": [
       "(array([], dtype=int64),)"
      ]
     },
     "execution_count": 19,
     "metadata": {},
     "output_type": "execute_result"
    }
   ],
   "source": [
    "index = np.array([1, 2, 4])\n",
    "position = np.where(index == 100)\n",
    "position"
   ]
  },
  {
   "cell_type": "code",
   "execution_count": 20,
   "id": "63b58386-fd09-4ea0-8f37-1bff28ba6ac4",
   "metadata": {},
   "outputs": [
    {
     "data": {
      "text/plain": [
       "0"
      ]
     },
     "execution_count": 20,
     "metadata": {},
     "output_type": "execute_result"
    }
   ],
   "source": [
    "len(position[0])"
   ]
  },
  {
   "cell_type": "code",
   "execution_count": null,
   "id": "4fcf161f-df59-4ab8-b45d-0b6f3cab5c66",
   "metadata": {},
   "outputs": [],
   "source": []
  }
 ],
 "metadata": {
  "kernelspec": {
   "display_name": "Python 3 (ipykernel)",
   "language": "python",
   "name": "python3"
  },
  "language_info": {
   "codemirror_mode": {
    "name": "ipython",
    "version": 3
   },
   "file_extension": ".py",
   "mimetype": "text/x-python",
   "name": "python",
   "nbconvert_exporter": "python",
   "pygments_lexer": "ipython3",
   "version": "3.7.11"
  }
 },
 "nbformat": 4,
 "nbformat_minor": 5
}
