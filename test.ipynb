{
 "cells": [
  {
   "cell_type": "code",
   "execution_count": 1,
   "id": "ec1151ee-3795-4e81-b891-131a8a42264d",
   "metadata": {},
   "outputs": [],
   "source": [
    "import os\n",
    "import shutil\n",
    "import itertools\n",
    "import time\n",
    "import csv\n",
    "import numpy as np\n",
    "meta = dict()\n",
    "process_num = 8\n",
    "docu = 'real_data_6219'"
   ]
  },
  {
   "cell_type": "code",
   "execution_count": 2,
   "id": "c648de48-de04-4a4a-96dd-4a0b16f962d4",
   "metadata": {},
   "outputs": [],
   "source": [
    "from Parallel import *"
   ]
  },
  {
   "cell_type": "code",
   "execution_count": 3,
   "id": "fad40552-fbc7-489f-9441-10b85e46f25c",
   "metadata": {},
   "outputs": [
    {
     "data": {
      "text/plain": [
       "{'pid': 0,\n",
       " 'initialization': 0.4006378650665283,\n",
       " 'preprocess': 2.0882720947265625,\n",
       " 'extraction': 0.04731607437133789,\n",
       " 'output': 0.25708794593811035}"
      ]
     },
     "execution_count": 3,
     "metadata": {},
     "output_type": "execute_result"
    }
   ],
   "source": [
    "start_time = time.time()\n",
    "b = process_func_fast(docu, 1912112 ,2012112, 3, 20, 9999, 9999, 0, 0, -1)\n",
    "time.time() - start_time\n",
    "b"
   ]
  }
 ],
 "metadata": {
  "kernelspec": {
   "display_name": "Python 3 (ipykernel)",
   "language": "python",
   "name": "python3"
  },
  "language_info": {
   "codemirror_mode": {
    "name": "ipython",
    "version": 3
   },
   "file_extension": ".py",
   "mimetype": "text/x-python",
   "name": "python",
   "nbconvert_exporter": "python",
   "pygments_lexer": "ipython3",
   "version": "3.7.11"
  }
 },
 "nbformat": 4,
 "nbformat_minor": 5
}
